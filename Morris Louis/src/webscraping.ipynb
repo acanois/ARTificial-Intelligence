{
 "cells": [
  {
   "cell_type": "code",
   "execution_count": 1,
   "metadata": {},
   "outputs": [],
   "source": [
    "import os\n",
    "\n",
    "from bs4 import BeautifulSoup\n",
    "import requests"
   ]
  },
  {
   "cell_type": "code",
   "execution_count": 2,
   "metadata": {},
   "outputs": [],
   "source": [
    "# url = 'http://morrislouis.org/paintings/gallery/early_paintings/all'\n",
    "# html = requests.get(url)\n",
    "# soup = BeautifulSoup(html.text, 'html.parser')\n",
    "# image_path = '../images/morris_louis/early_paintings_34_53/'"
   ]
  },
  {
   "cell_type": "code",
   "execution_count": 3,
   "metadata": {},
   "outputs": [],
   "source": [
    "def get_images(n1, n2, folder):\n",
    "    for i in range(n1, n2):\n",
    "        url = 'http://morrislouis.org/paintings/large/du' + str(i)\n",
    "        html = requests.get(url)\n",
    "        soup = BeautifulSoup(html.text, 'html.parser')\n",
    "        image_path = '../images/morris_louis/' + folder + '/'\n",
    "        print(url)\n",
    "        for link in soup.find_all('img'):\n",
    "            image = link.get('src')\n",
    "            image_name = os.path.split(image)[1]\n",
    "            image_to_write = requests.get(image)\n",
    "            with open(image_path + image_name, 'wb') as f:\n",
    "                f.write(image_to_write.content)"
   ]
  },
  {
   "cell_type": "code",
   "execution_count": null,
   "metadata": {},
   "outputs": [
    {
     "name": "stdout",
     "output_type": "stream",
     "text": [
      "http://morrislouis.org/paintings/large/du604\n"
     ]
    }
   ],
   "source": [
    "get_images(604, 605, 'stripe_paintings_61_62')"
   ]
  },
  {
   "cell_type": "code",
   "execution_count": null,
   "metadata": {},
   "outputs": [],
   "source": []
  }
 ],
 "metadata": {
  "kernelspec": {
   "display_name": "Python [conda env:lab]",
   "language": "python",
   "name": "conda-env-lab-py"
  },
  "language_info": {
   "codemirror_mode": {
    "name": "ipython",
    "version": 3
   },
   "file_extension": ".py",
   "mimetype": "text/x-python",
   "name": "python",
   "nbconvert_exporter": "python",
   "pygments_lexer": "ipython3",
   "version": "3.6.4"
  }
 },
 "nbformat": 4,
 "nbformat_minor": 2
}
