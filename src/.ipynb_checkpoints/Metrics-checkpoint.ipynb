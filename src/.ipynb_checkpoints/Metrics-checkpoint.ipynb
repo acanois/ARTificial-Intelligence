{
 "cells": [
  {
   "cell_type": "code",
   "execution_count": 4,
   "metadata": {
    "collapsed": true
   },
   "outputs": [],
   "source": [
    "import skimage\n",
    "from skimage import data\n",
    "from skimage import io\n",
    "import numpy as np\n",
    "import pandas as pd\n",
    "import os"
   ]
  },
  {
   "cell_type": "code",
   "execution_count": 5,
   "metadata": {
    "collapsed": true
   },
   "outputs": [],
   "source": [
    "\n",
    "def mode_color(img):\n",
    "    #read in image\n",
    "    img=io.imread('../Rothko_AI/'+img)\n",
    "    #flatten image\n",
    "    flat_img=[]\n",
    "    for x in img:\n",
    "        for y in x:\n",
    "            flat_img.append(y)\n",
    "    #convert pixels to strings\n",
    "    flat_img=[str(x) for x in flat_img]\n",
    "    #create dictionary with pixel color counts\n",
    "    counts = {}\n",
    "    for i in flat_img:\n",
    "        if i in counts:\n",
    "            counts[i] += 1\n",
    "        else:\n",
    "            counts[i] = 1\n",
    "    #find maximum value and convert to numpy array\n",
    "    key_max = max(counts.keys(), key=(lambda k: counts[k]))\n",
    "    key_max=key_max.split('[')[1].split(']')[0]\n",
    "    rgb=np.fromstring(key_max, dtype=int, sep=' ')\n",
    "    rgb=[rgb[0],rgb[1],rgb[2]]\n",
    "    return rgb\n",
    "\n",
    "def mean_color(img):\n",
    "    #read in image\n",
    "    img=io.imread('../Rothko_AI/'+img)\n",
    "    #flatten image\n",
    "    flat_img=[]\n",
    "    for x in img:\n",
    "        for y in x:\n",
    "            flat_img.append(y)\n",
    "    #calculate mean red, green and blue\n",
    "    r = np.array([x[0] for x in flat_img]).mean()\n",
    "    g = np.array([x[1] for x in flat_img]).mean()\n",
    "    b = np.array([x[2] for x in flat_img]).mean()\n",
    "    #combine into one array\n",
    "    rgb=[r,g,b]\n",
    "    return rgb\n",
    "\n",
    "def shannon_entropy(img):\n",
    "    #ready-made method\n",
    "    entropy = skimage.measure.shannon_entropy(io.imread('../Rothko_AI/'+img), base=2)\n",
    "    return entropy"
   ]
  },
  {
   "cell_type": "code",
   "execution_count": 7,
   "metadata": {},
   "outputs": [],
   "source": [
    "data_ = {'file_name':[], 'year':[], 'mode_color':[], 'mode_color_r':[], 'mode_color_g':[],\\\n",
    "         'mode_color_b':[], 'mean_color':[], 'mean_color_r':[], 'mean_color_g':[], 'mean_color_b':[],\\\n",
    "         'shannon_entropy':[]}\n",
    "for dirs in os.listdir('../images'):\n",
    "    for filename in dirs:\n",
    "        if '.jpg' in filename:\n",
    "            data_['file_name'].append(filename)\n",
    "            data_['year'].append(filename.split('_')[0])\n",
    "            rgb = mode_color(filename)\n",
    "            data_['mode_color'].append(rgb)\n",
    "            data_['mode_color_r'].append(rgb[0])\n",
    "            data_['mode_color_g'].append(rgb[1])\n",
    "            data_['mode_color_b'].append(rgb[2])\n",
    "            rgb = mean_color(filename)        \n",
    "            data_['mean_color'].append(rgb)\n",
    "            data_['mean_color_r'].append(rgb[0])\n",
    "            data_['mean_color_g'].append(rgb[1])\n",
    "            data_['mean_color_b'].append(rgb[2])\n",
    "            data_['shannon_entropy'].append(shannon_entropy(filename))"
   ]
  },
  {
   "cell_type": "code",
   "execution_count": 8,
   "metadata": {
    "collapsed": true
   },
   "outputs": [],
   "source": [
    "df=pd.DataFrame(data_)"
   ]
  },
  {
   "cell_type": "code",
   "execution_count": 9,
   "metadata": {
    "collapsed": true
   },
   "outputs": [],
   "source": [
    "df.to_csv('../data/data.csv')"
   ]
  },
  {
   "cell_type": "code",
   "execution_count": null,
   "metadata": {
    "collapsed": true
   },
   "outputs": [],
   "source": []
  }
 ],
 "metadata": {
  "kernelspec": {
   "display_name": "Python 3",
   "language": "python",
   "name": "python3"
  },
  "language_info": {
   "codemirror_mode": {
    "name": "ipython",
    "version": 3
   },
   "file_extension": ".py",
   "mimetype": "text/x-python",
   "name": "python",
   "nbconvert_exporter": "python",
   "pygments_lexer": "ipython3",
   "version": "3.6.1"
  }
 },
 "nbformat": 4,
 "nbformat_minor": 2
}
