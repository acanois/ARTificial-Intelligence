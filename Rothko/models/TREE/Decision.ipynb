{
 "cells": [
  {
   "cell_type": "markdown",
   "metadata": {},
   "source": [
    "# Decision Tree Model for Rothko Art"
   ]
  },
  {
   "cell_type": "code",
   "execution_count": 1,
   "metadata": {},
   "outputs": [
    {
     "ename": "ModuleNotFoundError",
     "evalue": "No module named 'graphviz'",
     "output_type": "error",
     "traceback": [
      "\u001b[0;31m---------------------------------------------------------------------------\u001b[0m",
      "\u001b[0;31mModuleNotFoundError\u001b[0m                       Traceback (most recent call last)",
      "\u001b[0;32m<ipython-input-1-6914dfad7e95>\u001b[0m in \u001b[0;36m<module>\u001b[0;34m()\u001b[0m\n\u001b[1;32m      3\u001b[0m \u001b[0;32mimport\u001b[0m \u001b[0mnumpy\u001b[0m \u001b[0;32mas\u001b[0m \u001b[0mnp\u001b[0m\u001b[0;34m\u001b[0m\u001b[0m\n\u001b[1;32m      4\u001b[0m \u001b[0;32mfrom\u001b[0m \u001b[0msklearn\u001b[0m\u001b[0;34m.\u001b[0m\u001b[0mmodel_selection\u001b[0m \u001b[0;32mimport\u001b[0m \u001b[0mtrain_test_split\u001b[0m\u001b[0;34m\u001b[0m\u001b[0m\n\u001b[0;32m----> 5\u001b[0;31m \u001b[0;32mimport\u001b[0m \u001b[0mgraphviz\u001b[0m\u001b[0;34m\u001b[0m\u001b[0m\n\u001b[0m\u001b[1;32m      6\u001b[0m \u001b[0;32mimport\u001b[0m \u001b[0mpydotplus\u001b[0m\u001b[0;34m\u001b[0m\u001b[0m\n\u001b[1;32m      7\u001b[0m \u001b[0;32mimport\u001b[0m \u001b[0msklearn\u001b[0m\u001b[0;34m\u001b[0m\u001b[0m\n",
      "\u001b[0;31mModuleNotFoundError\u001b[0m: No module named 'graphviz'"
     ]
    }
   ],
   "source": [
    "from sklearn import tree\n",
    "import pandas as pd\n",
    "import numpy as np\n",
    "from sklearn.model_selection import train_test_split\n",
    "import graphviz \n",
    "import pydotplus\n",
    "import sklearn\n",
    "import pickle"
   ]
  },
  {
   "cell_type": "markdown",
   "metadata": {},
   "source": [
    "## Load art data"
   ]
  },
  {
   "cell_type": "code",
   "execution_count": 73,
   "metadata": {
    "collapsed": true
   },
   "outputs": [],
   "source": [
    "data = pd.DataFrame.from_csv('../../data/data.csv')"
   ]
  },
  {
   "cell_type": "code",
   "execution_count": 74,
   "metadata": {
    "collapsed": true
   },
   "outputs": [],
   "source": [
    "data = data[['year','shannon_entropy','mean_color_r','luminance','contrast', 'contour']]"
   ]
  },
  {
   "cell_type": "code",
   "execution_count": 103,
   "metadata": {
    "collapsed": true
   },
   "outputs": [],
   "source": [
    "# Bin the data into appropriate art timelines for the artist\n",
    "bins = [1935, 1940, 1947, 1950, 1968, 1971]\n",
    "data['year_bin']=pd.cut(data['year'], bins)"
   ]
  },
  {
   "cell_type": "code",
   "execution_count": 104,
   "metadata": {},
   "outputs": [
    {
     "data": {
      "text/html": [
       "<div>\n",
       "<style>\n",
       "    .dataframe thead tr:only-child th {\n",
       "        text-align: right;\n",
       "    }\n",
       "\n",
       "    .dataframe thead th {\n",
       "        text-align: left;\n",
       "    }\n",
       "\n",
       "    .dataframe tbody tr th {\n",
       "        vertical-align: top;\n",
       "    }\n",
       "</style>\n",
       "<table border=\"1\" class=\"dataframe\">\n",
       "  <thead>\n",
       "    <tr style=\"text-align: right;\">\n",
       "      <th></th>\n",
       "      <th>year</th>\n",
       "      <th>shannon_entropy</th>\n",
       "      <th>mean_color_r</th>\n",
       "      <th>luminance</th>\n",
       "      <th>contrast</th>\n",
       "      <th>contour</th>\n",
       "      <th>year_bin</th>\n",
       "    </tr>\n",
       "  </thead>\n",
       "  <tbody>\n",
       "    <tr>\n",
       "      <th>0</th>\n",
       "      <td>1946</td>\n",
       "      <td>6.768127</td>\n",
       "      <td>195.046332</td>\n",
       "      <td>181.738624</td>\n",
       "      <td>0.827169</td>\n",
       "      <td>0.000056</td>\n",
       "      <td>(1940, 1947]</td>\n",
       "    </tr>\n",
       "    <tr>\n",
       "      <th>1</th>\n",
       "      <td>1953</td>\n",
       "      <td>6.937948</td>\n",
       "      <td>228.983463</td>\n",
       "      <td>161.723046</td>\n",
       "      <td>0.587802</td>\n",
       "      <td>0.000000</td>\n",
       "      <td>(1950, 1968]</td>\n",
       "    </tr>\n",
       "    <tr>\n",
       "      <th>2</th>\n",
       "      <td>1944</td>\n",
       "      <td>6.519651</td>\n",
       "      <td>217.905564</td>\n",
       "      <td>214.564295</td>\n",
       "      <td>0.853499</td>\n",
       "      <td>0.003758</td>\n",
       "      <td>(1940, 1947]</td>\n",
       "    </tr>\n",
       "    <tr>\n",
       "      <th>3</th>\n",
       "      <td>1951</td>\n",
       "      <td>6.451747</td>\n",
       "      <td>191.229599</td>\n",
       "      <td>184.080065</td>\n",
       "      <td>0.706196</td>\n",
       "      <td>0.000063</td>\n",
       "      <td>(1950, 1968]</td>\n",
       "    </tr>\n",
       "    <tr>\n",
       "      <th>4</th>\n",
       "      <td>1949</td>\n",
       "      <td>5.738259</td>\n",
       "      <td>230.154804</td>\n",
       "      <td>224.799111</td>\n",
       "      <td>0.658131</td>\n",
       "      <td>0.000000</td>\n",
       "      <td>(1947, 1950]</td>\n",
       "    </tr>\n",
       "  </tbody>\n",
       "</table>\n",
       "</div>"
      ],
      "text/plain": [
       "   year  shannon_entropy  mean_color_r   luminance  contrast   contour  \\\n",
       "0  1946         6.768127    195.046332  181.738624  0.827169  0.000056   \n",
       "1  1953         6.937948    228.983463  161.723046  0.587802  0.000000   \n",
       "2  1944         6.519651    217.905564  214.564295  0.853499  0.003758   \n",
       "3  1951         6.451747    191.229599  184.080065  0.706196  0.000063   \n",
       "4  1949         5.738259    230.154804  224.799111  0.658131  0.000000   \n",
       "\n",
       "       year_bin  \n",
       "0  (1940, 1947]  \n",
       "1  (1950, 1968]  \n",
       "2  (1940, 1947]  \n",
       "3  (1950, 1968]  \n",
       "4  (1947, 1950]  "
      ]
     },
     "execution_count": 104,
     "metadata": {},
     "output_type": "execute_result"
    }
   ],
   "source": [
    "data.head()"
   ]
  },
  {
   "cell_type": "markdown",
   "metadata": {},
   "source": [
    "## Create the model"
   ]
  },
  {
   "cell_type": "code",
   "execution_count": 105,
   "metadata": {
    "collapsed": true
   },
   "outputs": [],
   "source": [
    "# Create the Decision Tree Classifier\n",
    "clf = tree.DecisionTreeClassifier()"
   ]
  },
  {
   "cell_type": "code",
   "execution_count": 106,
   "metadata": {
    "collapsed": true
   },
   "outputs": [],
   "source": [
    "# Split the columns to separate the features from the result/target data\n",
    "features = data[['shannon_entropy','mean_color_r','luminance','contrast', 'contour']]\n",
    "target = data['year_bin'].astype(str)\n",
    "\n",
    "# Split the data into training and testing sets\n",
    "features_train, features_test, target_train, target_test = train_test_split(features, target,\n",
    "                                                                            random_state=41)\n"
   ]
  },
  {
   "cell_type": "code",
   "execution_count": 107,
   "metadata": {},
   "outputs": [
    {
     "data": {
      "text/plain": [
       "DecisionTreeClassifier(class_weight=None, criterion='gini', max_depth=None,\n",
       "            max_features=None, max_leaf_nodes=None,\n",
       "            min_impurity_decrease=0.0, min_impurity_split=None,\n",
       "            min_samples_leaf=1, min_samples_split=2,\n",
       "            min_weight_fraction_leaf=0.0, presort=False, random_state=None,\n",
       "            splitter='best')"
      ]
     },
     "execution_count": 107,
     "metadata": {},
     "output_type": "execute_result"
    }
   ],
   "source": [
    "# Train the model\n",
    "clf.fit(features_train, target_train)"
   ]
  },
  {
   "cell_type": "code",
   "execution_count": 108,
   "metadata": {},
   "outputs": [],
   "source": [
    "# Plot the Decicion Tree\n",
    "dot_data = tree.export_graphviz(\n",
    "   clf, out_file=None,\n",
    "   feature_names=['shannon_entropy','mean_color_r','luminance','contrast', 'contour'],  \n",
    "   class_names=list(target.unique()),  \n",
    "   filled=True, rounded=True,  \n",
    "   special_characters=True)  \n",
    "\n",
    "# Save the graphic representation of the tree into an image file\n",
    "graph = pydotplus.graph_from_dot_data(dot_data)\n",
    "graph.write_png(\"RothkoTree.png\")\n",
    "\n",
    "# Display the tree\n",
    "graph = graphviz.Source(dot_data)  "
   ]
  },
  {
   "cell_type": "code",
   "execution_count": 109,
   "metadata": {},
   "outputs": [
    {
     "data": {
      "text/plain": [
       "1.0"
      ]
     },
     "execution_count": 109,
     "metadata": {},
     "output_type": "execute_result"
    }
   ],
   "source": [
    "# Score the model on the training data\n",
    "clf.score(features_train, target_train)"
   ]
  },
  {
   "cell_type": "code",
   "execution_count": 110,
   "metadata": {},
   "outputs": [
    {
     "data": {
      "text/html": [
       "<div>\n",
       "<style>\n",
       "    .dataframe thead tr:only-child th {\n",
       "        text-align: right;\n",
       "    }\n",
       "\n",
       "    .dataframe thead th {\n",
       "        text-align: left;\n",
       "    }\n",
       "\n",
       "    .dataframe tbody tr th {\n",
       "        vertical-align: top;\n",
       "    }\n",
       "</style>\n",
       "<table border=\"1\" class=\"dataframe\">\n",
       "  <thead>\n",
       "    <tr style=\"text-align: right;\">\n",
       "      <th></th>\n",
       "      <th>shannon_entropy</th>\n",
       "      <th>mean_color_r</th>\n",
       "      <th>luminance</th>\n",
       "      <th>contrast</th>\n",
       "      <th>contour</th>\n",
       "    </tr>\n",
       "  </thead>\n",
       "  <tbody>\n",
       "    <tr>\n",
       "      <th>117</th>\n",
       "      <td>6.773625</td>\n",
       "      <td>137.823469</td>\n",
       "      <td>64.834755</td>\n",
       "      <td>0.706567</td>\n",
       "      <td>0.000392</td>\n",
       "    </tr>\n",
       "    <tr>\n",
       "      <th>23</th>\n",
       "      <td>7.241842</td>\n",
       "      <td>89.652005</td>\n",
       "      <td>60.191100</td>\n",
       "      <td>0.600991</td>\n",
       "      <td>0.002914</td>\n",
       "    </tr>\n",
       "    <tr>\n",
       "      <th>9</th>\n",
       "      <td>6.670086</td>\n",
       "      <td>103.760430</td>\n",
       "      <td>68.823123</td>\n",
       "      <td>0.604119</td>\n",
       "      <td>0.001395</td>\n",
       "    </tr>\n",
       "    <tr>\n",
       "      <th>83</th>\n",
       "      <td>7.539614</td>\n",
       "      <td>206.147402</td>\n",
       "      <td>180.653881</td>\n",
       "      <td>0.988787</td>\n",
       "      <td>0.001054</td>\n",
       "    </tr>\n",
       "    <tr>\n",
       "      <th>75</th>\n",
       "      <td>5.487007</td>\n",
       "      <td>55.405362</td>\n",
       "      <td>49.964642</td>\n",
       "      <td>0.732593</td>\n",
       "      <td>0.002435</td>\n",
       "    </tr>\n",
       "    <tr>\n",
       "      <th>142</th>\n",
       "      <td>6.940110</td>\n",
       "      <td>224.723732</td>\n",
       "      <td>121.017543</td>\n",
       "      <td>0.593649</td>\n",
       "      <td>0.000011</td>\n",
       "    </tr>\n",
       "    <tr>\n",
       "      <th>68</th>\n",
       "      <td>7.544367</td>\n",
       "      <td>206.556442</td>\n",
       "      <td>127.426412</td>\n",
       "      <td>0.689048</td>\n",
       "      <td>0.000143</td>\n",
       "    </tr>\n",
       "    <tr>\n",
       "      <th>55</th>\n",
       "      <td>6.901499</td>\n",
       "      <td>94.989966</td>\n",
       "      <td>90.130445</td>\n",
       "      <td>0.978777</td>\n",
       "      <td>0.001258</td>\n",
       "    </tr>\n",
       "    <tr>\n",
       "      <th>22</th>\n",
       "      <td>7.386364</td>\n",
       "      <td>187.607110</td>\n",
       "      <td>102.312891</td>\n",
       "      <td>0.690988</td>\n",
       "      <td>0.000301</td>\n",
       "    </tr>\n",
       "    <tr>\n",
       "      <th>99</th>\n",
       "      <td>6.050708</td>\n",
       "      <td>152.454348</td>\n",
       "      <td>55.466972</td>\n",
       "      <td>0.731065</td>\n",
       "      <td>0.001153</td>\n",
       "    </tr>\n",
       "    <tr>\n",
       "      <th>104</th>\n",
       "      <td>6.892560</td>\n",
       "      <td>182.292976</td>\n",
       "      <td>118.893086</td>\n",
       "      <td>0.660022</td>\n",
       "      <td>0.000518</td>\n",
       "    </tr>\n",
       "    <tr>\n",
       "      <th>159</th>\n",
       "      <td>6.887675</td>\n",
       "      <td>219.142465</td>\n",
       "      <td>95.494538</td>\n",
       "      <td>0.709618</td>\n",
       "      <td>0.001495</td>\n",
       "    </tr>\n",
       "    <tr>\n",
       "      <th>41</th>\n",
       "      <td>4.943609</td>\n",
       "      <td>57.051575</td>\n",
       "      <td>54.490211</td>\n",
       "      <td>0.434574</td>\n",
       "      <td>0.000219</td>\n",
       "    </tr>\n",
       "    <tr>\n",
       "      <th>39</th>\n",
       "      <td>7.767744</td>\n",
       "      <td>129.064922</td>\n",
       "      <td>119.010270</td>\n",
       "      <td>1.000000</td>\n",
       "      <td>0.007050</td>\n",
       "    </tr>\n",
       "    <tr>\n",
       "      <th>37</th>\n",
       "      <td>7.570246</td>\n",
       "      <td>213.100011</td>\n",
       "      <td>160.537297</td>\n",
       "      <td>0.716540</td>\n",
       "      <td>0.000149</td>\n",
       "    </tr>\n",
       "    <tr>\n",
       "      <th>67</th>\n",
       "      <td>6.005812</td>\n",
       "      <td>64.598554</td>\n",
       "      <td>53.903904</td>\n",
       "      <td>0.558722</td>\n",
       "      <td>0.009050</td>\n",
       "    </tr>\n",
       "    <tr>\n",
       "      <th>106</th>\n",
       "      <td>6.958922</td>\n",
       "      <td>100.806479</td>\n",
       "      <td>108.903180</td>\n",
       "      <td>0.353666</td>\n",
       "      <td>0.000000</td>\n",
       "    </tr>\n",
       "    <tr>\n",
       "      <th>165</th>\n",
       "      <td>6.340608</td>\n",
       "      <td>166.851098</td>\n",
       "      <td>90.039958</td>\n",
       "      <td>0.435091</td>\n",
       "      <td>0.000032</td>\n",
       "    </tr>\n",
       "    <tr>\n",
       "      <th>116</th>\n",
       "      <td>7.272247</td>\n",
       "      <td>102.672168</td>\n",
       "      <td>58.943466</td>\n",
       "      <td>1.000000</td>\n",
       "      <td>0.009407</td>\n",
       "    </tr>\n",
       "    <tr>\n",
       "      <th>38</th>\n",
       "      <td>6.906291</td>\n",
       "      <td>204.733410</td>\n",
       "      <td>198.534055</td>\n",
       "      <td>0.994999</td>\n",
       "      <td>0.000617</td>\n",
       "    </tr>\n",
       "    <tr>\n",
       "      <th>30</th>\n",
       "      <td>7.294625</td>\n",
       "      <td>117.309667</td>\n",
       "      <td>83.878016</td>\n",
       "      <td>1.000000</td>\n",
       "      <td>0.013823</td>\n",
       "    </tr>\n",
       "    <tr>\n",
       "      <th>97</th>\n",
       "      <td>6.187428</td>\n",
       "      <td>218.867912</td>\n",
       "      <td>95.742240</td>\n",
       "      <td>0.506549</td>\n",
       "      <td>0.000000</td>\n",
       "    </tr>\n",
       "    <tr>\n",
       "      <th>100</th>\n",
       "      <td>7.812230</td>\n",
       "      <td>217.376992</td>\n",
       "      <td>160.083936</td>\n",
       "      <td>0.712120</td>\n",
       "      <td>0.000078</td>\n",
       "    </tr>\n",
       "    <tr>\n",
       "      <th>6</th>\n",
       "      <td>6.584765</td>\n",
       "      <td>180.429643</td>\n",
       "      <td>92.777614</td>\n",
       "      <td>0.374630</td>\n",
       "      <td>0.000000</td>\n",
       "    </tr>\n",
       "    <tr>\n",
       "      <th>91</th>\n",
       "      <td>7.210444</td>\n",
       "      <td>209.219409</td>\n",
       "      <td>184.092527</td>\n",
       "      <td>0.691674</td>\n",
       "      <td>0.000134</td>\n",
       "    </tr>\n",
       "    <tr>\n",
       "      <th>87</th>\n",
       "      <td>6.899513</td>\n",
       "      <td>165.846107</td>\n",
       "      <td>144.343639</td>\n",
       "      <td>0.968812</td>\n",
       "      <td>0.000045</td>\n",
       "    </tr>\n",
       "    <tr>\n",
       "      <th>56</th>\n",
       "      <td>5.635773</td>\n",
       "      <td>57.756134</td>\n",
       "      <td>29.227087</td>\n",
       "      <td>0.997760</td>\n",
       "      <td>0.000940</td>\n",
       "    </tr>\n",
       "    <tr>\n",
       "      <th>120</th>\n",
       "      <td>6.277986</td>\n",
       "      <td>60.570219</td>\n",
       "      <td>63.491160</td>\n",
       "      <td>0.991990</td>\n",
       "      <td>0.000073</td>\n",
       "    </tr>\n",
       "    <tr>\n",
       "      <th>103</th>\n",
       "      <td>6.974586</td>\n",
       "      <td>61.101095</td>\n",
       "      <td>89.534791</td>\n",
       "      <td>0.601939</td>\n",
       "      <td>0.000000</td>\n",
       "    </tr>\n",
       "    <tr>\n",
       "      <th>139</th>\n",
       "      <td>6.858416</td>\n",
       "      <td>121.821981</td>\n",
       "      <td>92.631372</td>\n",
       "      <td>0.713643</td>\n",
       "      <td>0.000495</td>\n",
       "    </tr>\n",
       "    <tr>\n",
       "      <th>51</th>\n",
       "      <td>5.283672</td>\n",
       "      <td>27.108453</td>\n",
       "      <td>20.628565</td>\n",
       "      <td>0.953979</td>\n",
       "      <td>0.000090</td>\n",
       "    </tr>\n",
       "    <tr>\n",
       "      <th>66</th>\n",
       "      <td>7.243077</td>\n",
       "      <td>122.366473</td>\n",
       "      <td>104.602024</td>\n",
       "      <td>0.998093</td>\n",
       "      <td>0.006031</td>\n",
       "    </tr>\n",
       "    <tr>\n",
       "      <th>110</th>\n",
       "      <td>7.462383</td>\n",
       "      <td>109.140490</td>\n",
       "      <td>85.186425</td>\n",
       "      <td>1.000000</td>\n",
       "      <td>0.008295</td>\n",
       "    </tr>\n",
       "    <tr>\n",
       "      <th>63</th>\n",
       "      <td>7.815655</td>\n",
       "      <td>154.203245</td>\n",
       "      <td>119.236217</td>\n",
       "      <td>1.000000</td>\n",
       "      <td>0.002829</td>\n",
       "    </tr>\n",
       "    <tr>\n",
       "      <th>153</th>\n",
       "      <td>7.126815</td>\n",
       "      <td>208.400426</td>\n",
       "      <td>117.932811</td>\n",
       "      <td>0.493237</td>\n",
       "      <td>0.000000</td>\n",
       "    </tr>\n",
       "    <tr>\n",
       "      <th>20</th>\n",
       "      <td>7.604876</td>\n",
       "      <td>190.953840</td>\n",
       "      <td>90.515333</td>\n",
       "      <td>0.997899</td>\n",
       "      <td>0.004497</td>\n",
       "    </tr>\n",
       "    <tr>\n",
       "      <th>71</th>\n",
       "      <td>6.122465</td>\n",
       "      <td>77.932974</td>\n",
       "      <td>46.187174</td>\n",
       "      <td>0.499927</td>\n",
       "      <td>0.000474</td>\n",
       "    </tr>\n",
       "    <tr>\n",
       "      <th>150</th>\n",
       "      <td>6.733142</td>\n",
       "      <td>155.569471</td>\n",
       "      <td>90.807680</td>\n",
       "      <td>0.638413</td>\n",
       "      <td>0.000680</td>\n",
       "    </tr>\n",
       "    <tr>\n",
       "      <th>157</th>\n",
       "      <td>6.613272</td>\n",
       "      <td>157.265576</td>\n",
       "      <td>77.041914</td>\n",
       "      <td>0.708109</td>\n",
       "      <td>0.002497</td>\n",
       "    </tr>\n",
       "    <tr>\n",
       "      <th>135</th>\n",
       "      <td>7.077939</td>\n",
       "      <td>145.865721</td>\n",
       "      <td>145.629278</td>\n",
       "      <td>0.946755</td>\n",
       "      <td>0.000198</td>\n",
       "    </tr>\n",
       "    <tr>\n",
       "      <th>2</th>\n",
       "      <td>6.519651</td>\n",
       "      <td>217.905564</td>\n",
       "      <td>214.564295</td>\n",
       "      <td>0.853499</td>\n",
       "      <td>0.003758</td>\n",
       "    </tr>\n",
       "    <tr>\n",
       "      <th>49</th>\n",
       "      <td>7.227459</td>\n",
       "      <td>61.287020</td>\n",
       "      <td>124.360354</td>\n",
       "      <td>0.480662</td>\n",
       "      <td>0.000000</td>\n",
       "    </tr>\n",
       "  </tbody>\n",
       "</table>\n",
       "</div>"
      ],
      "text/plain": [
       "     shannon_entropy  mean_color_r   luminance  contrast   contour\n",
       "117         6.773625    137.823469   64.834755  0.706567  0.000392\n",
       "23          7.241842     89.652005   60.191100  0.600991  0.002914\n",
       "9           6.670086    103.760430   68.823123  0.604119  0.001395\n",
       "83          7.539614    206.147402  180.653881  0.988787  0.001054\n",
       "75          5.487007     55.405362   49.964642  0.732593  0.002435\n",
       "142         6.940110    224.723732  121.017543  0.593649  0.000011\n",
       "68          7.544367    206.556442  127.426412  0.689048  0.000143\n",
       "55          6.901499     94.989966   90.130445  0.978777  0.001258\n",
       "22          7.386364    187.607110  102.312891  0.690988  0.000301\n",
       "99          6.050708    152.454348   55.466972  0.731065  0.001153\n",
       "104         6.892560    182.292976  118.893086  0.660022  0.000518\n",
       "159         6.887675    219.142465   95.494538  0.709618  0.001495\n",
       "41          4.943609     57.051575   54.490211  0.434574  0.000219\n",
       "39          7.767744    129.064922  119.010270  1.000000  0.007050\n",
       "37          7.570246    213.100011  160.537297  0.716540  0.000149\n",
       "67          6.005812     64.598554   53.903904  0.558722  0.009050\n",
       "106         6.958922    100.806479  108.903180  0.353666  0.000000\n",
       "165         6.340608    166.851098   90.039958  0.435091  0.000032\n",
       "116         7.272247    102.672168   58.943466  1.000000  0.009407\n",
       "38          6.906291    204.733410  198.534055  0.994999  0.000617\n",
       "30          7.294625    117.309667   83.878016  1.000000  0.013823\n",
       "97          6.187428    218.867912   95.742240  0.506549  0.000000\n",
       "100         7.812230    217.376992  160.083936  0.712120  0.000078\n",
       "6           6.584765    180.429643   92.777614  0.374630  0.000000\n",
       "91          7.210444    209.219409  184.092527  0.691674  0.000134\n",
       "87          6.899513    165.846107  144.343639  0.968812  0.000045\n",
       "56          5.635773     57.756134   29.227087  0.997760  0.000940\n",
       "120         6.277986     60.570219   63.491160  0.991990  0.000073\n",
       "103         6.974586     61.101095   89.534791  0.601939  0.000000\n",
       "139         6.858416    121.821981   92.631372  0.713643  0.000495\n",
       "51          5.283672     27.108453   20.628565  0.953979  0.000090\n",
       "66          7.243077    122.366473  104.602024  0.998093  0.006031\n",
       "110         7.462383    109.140490   85.186425  1.000000  0.008295\n",
       "63          7.815655    154.203245  119.236217  1.000000  0.002829\n",
       "153         7.126815    208.400426  117.932811  0.493237  0.000000\n",
       "20          7.604876    190.953840   90.515333  0.997899  0.004497\n",
       "71          6.122465     77.932974   46.187174  0.499927  0.000474\n",
       "150         6.733142    155.569471   90.807680  0.638413  0.000680\n",
       "157         6.613272    157.265576   77.041914  0.708109  0.002497\n",
       "135         7.077939    145.865721  145.629278  0.946755  0.000198\n",
       "2           6.519651    217.905564  214.564295  0.853499  0.003758\n",
       "49          7.227459     61.287020  124.360354  0.480662  0.000000"
      ]
     },
     "execution_count": 110,
     "metadata": {},
     "output_type": "execute_result"
    }
   ],
   "source": [
    "features_test"
   ]
  },
  {
   "cell_type": "code",
   "execution_count": 111,
   "metadata": {
    "scrolled": true
   },
   "outputs": [
    {
     "name": "stdout",
     "output_type": "stream",
     "text": [
      "True (1950, 1968] (1950, 1968]\n",
      "True (1950, 1968] (1950, 1968]\n",
      "True (1950, 1968] (1950, 1968]\n",
      "True (1947, 1950] (1947, 1950]\n",
      "True (1950, 1968] (1950, 1968]\n",
      "True (1950, 1968] (1950, 1968]\n",
      "False (1947, 1950] (1950, 1968]\n",
      "True (1950, 1968] (1950, 1968]\n",
      "False (1968, 1971] (1940, 1947]\n",
      "True (1950, 1968] (1950, 1968]\n",
      "True (1950, 1968] (1950, 1968]\n",
      "False (1968, 1971] (1950, 1968]\n",
      "True (1950, 1968] (1950, 1968]\n",
      "True (1940, 1947] (1940, 1947]\n",
      "True (1947, 1950] (1947, 1950]\n",
      "True (1950, 1968] (1950, 1968]\n",
      "True (1950, 1968] (1950, 1968]\n",
      "True (1950, 1968] (1950, 1968]\n",
      "False (1950, 1968] (1935, 1940]\n",
      "False (1940, 1947] (1935, 1940]\n",
      "False (1947, 1950] (1940, 1947]\n",
      "True (1950, 1968] (1950, 1968]\n",
      "True (1947, 1950] (1947, 1950]\n",
      "False (1968, 1971] (1950, 1968]\n",
      "True (1947, 1950] (1947, 1950]\n",
      "True (1950, 1968] (1950, 1968]\n",
      "True (1950, 1968] (1950, 1968]\n",
      "True (1968, 1971] (1968, 1971]\n",
      "True (1950, 1968] (1950, 1968]\n",
      "False (1950, 1968] (1947, 1950]\n",
      "True (1950, 1968] (1950, 1968]\n",
      "True (1940, 1947] (1940, 1947]\n",
      "True (1935, 1940] (1935, 1940]\n",
      "True (1940, 1947] (1940, 1947]\n",
      "True (1950, 1968] (1950, 1968]\n",
      "True (1947, 1950] (1947, 1950]\n",
      "True (1950, 1968] (1950, 1968]\n",
      "True (1950, 1968] (1950, 1968]\n",
      "True (1950, 1968] (1950, 1968]\n",
      "False (1950, 1968] (1947, 1950]\n",
      "True (1940, 1947] (1940, 1947]\n",
      "True (1950, 1968] (1950, 1968]\n"
     ]
    }
   ],
   "source": [
    "# Predict the bins for the test data\n",
    "p = clf.predict(features_test)\n",
    "for i in range(0, len(p)):\n",
    "    print(p[i] == target_test.tolist()[i], p[i], target_test.tolist()[i])"
   ]
  },
  {
   "cell_type": "code",
   "execution_count": 112,
   "metadata": {},
   "outputs": [
    {
     "data": {
      "text/plain": [
       "0.7857142857142857"
      ]
     },
     "execution_count": 112,
     "metadata": {},
     "output_type": "execute_result"
    }
   ],
   "source": [
    "# Score the model on the test data\n",
    "clf.score(features_test, target_test)"
   ]
  },
  {
   "cell_type": "code",
   "execution_count": 113,
   "metadata": {},
   "outputs": [
    {
     "data": {
      "text/plain": [
       "0.7857142857142857"
      ]
     },
     "execution_count": 113,
     "metadata": {},
     "output_type": "execute_result"
    }
   ],
   "source": [
    "# Check the accuracy score for the predicted values\n",
    "sklearn.metrics.accuracy_score(target_test,p)"
   ]
  },
  {
   "cell_type": "code",
   "execution_count": 114,
   "metadata": {
    "collapsed": true
   },
   "outputs": [],
   "source": [
    "# Save the model to a file\n",
    "filename = \"RothkoDecisionTree.pkl\"\n",
    "pickle.dump(clf, open(filename, \"wb\"))"
   ]
  },
  {
   "cell_type": "code",
   "execution_count": 115,
   "metadata": {
    "collapsed": true
   },
   "outputs": [],
   "source": [
    "# load the model from disk\n",
    "loaded_clf = pickle.load(open(filename, \"rb\"))"
   ]
  },
  {
   "cell_type": "code",
   "execution_count": 116,
   "metadata": {},
   "outputs": [
    {
     "data": {
      "text/plain": [
       "0.7857142857142857"
      ]
     },
     "execution_count": 116,
     "metadata": {},
     "output_type": "execute_result"
    }
   ],
   "source": [
    "loaded_clf.score(features_test, target_test)"
   ]
  },
  {
   "cell_type": "code",
   "execution_count": null,
   "metadata": {
    "collapsed": true
   },
   "outputs": [],
   "source": []
  },
  {
   "cell_type": "code",
   "execution_count": null,
   "metadata": {
    "collapsed": true
   },
   "outputs": [],
   "source": []
  }
 ],
 "metadata": {
  "kernelspec": {
   "display_name": "Python 3",
   "language": "python",
   "name": "python3"
  },
  "language_info": {
   "codemirror_mode": {
    "name": "ipython",
    "version": 3
   },
   "file_extension": ".py",
   "mimetype": "text/x-python",
   "name": "python",
   "nbconvert_exporter": "python",
   "pygments_lexer": "ipython3",
   "version": "3.6.6"
  }
 },
 "nbformat": 4,
 "nbformat_minor": 2
}
