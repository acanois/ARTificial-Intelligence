{
 "cells": [
  {
   "cell_type": "markdown",
   "metadata": {},
   "source": [
    "# Webscraping Morris Louis Paintings"
   ]
  },
  {
   "cell_type": "code",
   "execution_count": 1,
   "metadata": {},
   "outputs": [],
   "source": [
    "import os\n",
    "import time\n",
    "\n",
    "from bs4 import BeautifulSoup\n",
    "import requests"
   ]
  },
  {
   "cell_type": "markdown",
   "metadata": {},
   "source": [
    "## Get the Images\n",
    "Get images takes three arguments. The first two arguments are the low and high values for the range of images to download. On the site, all the images are named 'du1', 'du2', 'du3', etc. So one time periods would be images 'du1' to 'du50', for example. The third argument is just the folder to save the images to, as each time period gets its own folder."
   ]
  },
  {
   "cell_type": "code",
   "execution_count": 2,
   "metadata": {},
   "outputs": [],
   "source": [
    "def get_images(n1, n2, folder):\n",
    "    for i in range(n1, n2):\n",
    "        url = 'http://morrislouis.org/paintings/large/du' + str(i)\n",
    "        html = requests.get(url)\n",
    "        soup = BeautifulSoup(html.text, 'html.parser')\n",
    "        image_path = '../images/morris_louis/' + folder + '/'\n",
    "        print(url)\n",
    "        for link in soup.find_all('img'):\n",
    "            image = link.get('src')\n",
    "            image_name = os.path.split(image)[1]\n",
    "            image_to_write = requests.get(image)\n",
    "            with open(image_path + image_name, 'wb') as f:\n",
    "                f.write(image_to_write.content)"
   ]
  },
  {
   "cell_type": "code",
   "execution_count": 4,
   "metadata": {},
   "outputs": [
    {
     "name": "stdout",
     "output_type": "stream",
     "text": [
      "http://morrislouis.org/paintings/large/du604\n"
     ]
    },
    {
     "ename": "FileNotFoundError",
     "evalue": "[Errno 2] No such file or directory: '../images/morris_louis/stripe_paintings_61_62/stripe_paintings.png'",
     "output_type": "error",
     "traceback": [
      "\u001b[0;31m---------------------------------------------------------------------------\u001b[0m",
      "\u001b[0;31mFileNotFoundError\u001b[0m                         Traceback (most recent call last)",
      "\u001b[0;32m<ipython-input-4-7e75adcbaf1d>\u001b[0m in \u001b[0;36m<module>\u001b[0;34m()\u001b[0m\n\u001b[0;32m----> 1\u001b[0;31m \u001b[0mget_images\u001b[0m\u001b[0;34m(\u001b[0m\u001b[0;36m604\u001b[0m\u001b[0;34m,\u001b[0m \u001b[0;36m605\u001b[0m\u001b[0;34m,\u001b[0m \u001b[0;34m'stripe_paintings_61_62'\u001b[0m\u001b[0;34m)\u001b[0m\u001b[0;34m\u001b[0m\u001b[0m\n\u001b[0m",
      "\u001b[0;32m<ipython-input-3-65f998212a2e>\u001b[0m in \u001b[0;36mget_images\u001b[0;34m(n1, n2, folder)\u001b[0m\n\u001b[1;32m     10\u001b[0m             \u001b[0mimage_name\u001b[0m \u001b[0;34m=\u001b[0m \u001b[0mos\u001b[0m\u001b[0;34m.\u001b[0m\u001b[0mpath\u001b[0m\u001b[0;34m.\u001b[0m\u001b[0msplit\u001b[0m\u001b[0;34m(\u001b[0m\u001b[0mimage\u001b[0m\u001b[0;34m)\u001b[0m\u001b[0;34m[\u001b[0m\u001b[0;36m1\u001b[0m\u001b[0;34m]\u001b[0m\u001b[0;34m\u001b[0m\u001b[0m\n\u001b[1;32m     11\u001b[0m             \u001b[0mimage_to_write\u001b[0m \u001b[0;34m=\u001b[0m \u001b[0mrequests\u001b[0m\u001b[0;34m.\u001b[0m\u001b[0mget\u001b[0m\u001b[0;34m(\u001b[0m\u001b[0mimage\u001b[0m\u001b[0;34m)\u001b[0m\u001b[0;34m\u001b[0m\u001b[0m\n\u001b[0;32m---> 12\u001b[0;31m             \u001b[0;32mwith\u001b[0m \u001b[0mopen\u001b[0m\u001b[0;34m(\u001b[0m\u001b[0mimage_path\u001b[0m \u001b[0;34m+\u001b[0m \u001b[0mimage_name\u001b[0m\u001b[0;34m,\u001b[0m \u001b[0;34m'wb'\u001b[0m\u001b[0;34m)\u001b[0m \u001b[0;32mas\u001b[0m \u001b[0mf\u001b[0m\u001b[0;34m:\u001b[0m\u001b[0;34m\u001b[0m\u001b[0m\n\u001b[0m\u001b[1;32m     13\u001b[0m                 \u001b[0mf\u001b[0m\u001b[0;34m.\u001b[0m\u001b[0mwrite\u001b[0m\u001b[0;34m(\u001b[0m\u001b[0mimage_to_write\u001b[0m\u001b[0;34m.\u001b[0m\u001b[0mcontent\u001b[0m\u001b[0;34m)\u001b[0m\u001b[0;34m\u001b[0m\u001b[0m\n",
      "\u001b[0;31mFileNotFoundError\u001b[0m: [Errno 2] No such file or directory: '../images/morris_louis/stripe_paintings_61_62/stripe_paintings.png'"
     ]
    }
   ],
   "source": [
    "get_images(604, 605, 'stripe_paintings_61_62')"
   ]
  },
  {
   "cell_type": "code",
   "execution_count": 3,
   "metadata": {},
   "outputs": [],
   "source": [
    "early_years = []\n",
    "veil_years = []\n",
    "abs_ex_years = []\n",
    "veil_years2 = []\n",
    "t_and_v_years = []\n",
    "unf_years = []\n",
    "stripe_years = []"
   ]
  },
  {
   "cell_type": "code",
   "execution_count": 4,
   "metadata": {},
   "outputs": [],
   "source": [
    "urls = [\n",
    "    'http://morrislouis.org/paintings/gallery/early_paintings/all',\n",
    "    'http://morrislouis.org/paintings/gallery/veil_paintings/all',\n",
    "    'http://morrislouis.org/paintings/gallery/abstract_expressionist_paintings/all',\n",
    "    'http://morrislouis.org/paintings/gallery/veil_paintings2/all',\n",
    "    'http://morrislouis.org/paintings/gallery/themes_and_variations/all',\n",
    "    'http://morrislouis.org/paintings/gallery/unfurled_paintings/all',\n",
    "    'http://morrislouis.org/paintings/gallery/stripe_paintings/all'\n",
    "]"
   ]
  },
  {
   "cell_type": "code",
   "execution_count": 5,
   "metadata": {},
   "outputs": [],
   "source": [
    "def get_years(year_group, url):\n",
    "    html = requests.get(url)\n",
    "    soup = BeautifulSoup(html.text, 'html.parser')\n",
    "    title_tags = soup.findAll('div', {'class': 'titleyear'})\n",
    "    for title in title_tags:\n",
    "        curr_title = title.text\n",
    "        if 's' in curr_title[-2:]:\n",
    "            curr_year = curr_title[-6: -2]\n",
    "            curr_year = int(curr_year) + 5\n",
    "            year_group.append(curr_year)\n",
    "        else:\n",
    "            year_group.append(int(curr_title[-5: -1]))"
   ]
  },
  {
   "cell_type": "code",
   "execution_count": 6,
   "metadata": {},
   "outputs": [],
   "source": [
    "get_years(early_years, urls[0])"
   ]
  },
  {
   "cell_type": "code",
   "execution_count": 8,
   "metadata": {},
   "outputs": [],
   "source": [
    "get_years(veil_years, urls[1])"
   ]
  },
  {
   "cell_type": "code",
   "execution_count": 9,
   "metadata": {},
   "outputs": [],
   "source": [
    "get_years(abs_ex_years, urls[2])"
   ]
  },
  {
   "cell_type": "code",
   "execution_count": 10,
   "metadata": {},
   "outputs": [],
   "source": [
    "get_years(veil_years2, urls[3])"
   ]
  },
  {
   "cell_type": "code",
   "execution_count": 11,
   "metadata": {},
   "outputs": [],
   "source": [
    "get_years(t_and_v_years, urls[4])"
   ]
  },
  {
   "cell_type": "code",
   "execution_count": 12,
   "metadata": {},
   "outputs": [],
   "source": [
    "get_years(unf_years, urls[5])"
   ]
  },
  {
   "cell_type": "code",
   "execution_count": 13,
   "metadata": {},
   "outputs": [],
   "source": [
    "get_years(stripe_years, urls[6])"
   ]
  },
  {
   "cell_type": "code",
   "execution_count": null,
   "metadata": {},
   "outputs": [],
   "source": []
  }
 ],
 "metadata": {
  "kernelspec": {
   "display_name": "Python [conda env:lab]",
   "language": "python",
   "name": "conda-env-lab-py"
  },
  "language_info": {
   "codemirror_mode": {
    "name": "ipython",
    "version": 3
   },
   "file_extension": ".py",
   "mimetype": "text/x-python",
   "name": "python",
   "nbconvert_exporter": "python",
   "pygments_lexer": "ipython3",
   "version": "3.6.4"
  }
 },
 "nbformat": 4,
 "nbformat_minor": 2
}
